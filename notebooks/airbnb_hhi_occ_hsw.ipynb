{
 "cells": [
  {
   "cell_type": "code",
   "execution_count": 2,
   "id": "3a0feb94-c9d4-4843-9300-9cdf276c67a3",
   "metadata": {
    "execution": {
     "iopub.execute_input": "2024-07-15T02:00:09.567292Z",
     "iopub.status.busy": "2024-07-15T02:00:09.566748Z",
     "iopub.status.idle": "2024-07-15T02:00:13.516889Z",
     "shell.execute_reply": "2024-07-15T02:00:13.515866Z",
     "shell.execute_reply.started": "2024-07-15T02:00:09.567265Z"
    },
    "tags": []
   },
   "outputs": [
    {
     "name": "stdout",
     "output_type": "stream",
     "text": [
      "Collecting folium\n",
      "  Using cached folium-0.17.0-py2.py3-none-any.whl (108 kB)\n",
      "Collecting branca>=0.6.0\n",
      "  Using cached branca-0.7.2-py3-none-any.whl (25 kB)\n",
      "Requirement already satisfied: numpy in /home/jovyan/.local/lib/python3.8/site-packages (from folium) (1.24.4)\n",
      "Collecting xyzservices\n",
      "  Using cached xyzservices-2024.6.0-py3-none-any.whl (83 kB)\n",
      "Requirement already satisfied: requests in /opt/conda/lib/python3.8/site-packages (from folium) (2.25.1)\n",
      "Requirement already satisfied: jinja2>=2.9 in /opt/conda/lib/python3.8/site-packages (from folium) (3.0.1)\n",
      "Requirement already satisfied: MarkupSafe>=2.0 in /opt/conda/lib/python3.8/site-packages (from jinja2>=2.9->folium) (2.0.1)\n",
      "Requirement already satisfied: idna<3,>=2.5 in /opt/conda/lib/python3.8/site-packages (from requests->folium) (2.10)\n",
      "Requirement already satisfied: urllib3<1.27,>=1.21.1 in /opt/conda/lib/python3.8/site-packages (from requests->folium) (1.26.6)\n",
      "Requirement already satisfied: certifi>=2017.4.17 in /opt/conda/lib/python3.8/site-packages (from requests->folium) (2021.5.30)\n",
      "Requirement already satisfied: chardet<5,>=3.0.2 in /opt/conda/lib/python3.8/site-packages (from requests->folium) (4.0.0)\n",
      "Installing collected packages: xyzservices, branca, folium\n",
      "Successfully installed branca-0.7.2 folium-0.17.0 xyzservices-2024.6.0\n"
     ]
    }
   ],
   "source": [
    "!pip3 install folium"
   ]
  },
  {
   "cell_type": "code",
   "execution_count": 3,
   "id": "47c72ebe-e646-40cd-8a7b-34c7addf08b1",
   "metadata": {
    "execution": {
     "iopub.execute_input": "2024-07-15T02:00:13.518934Z",
     "iopub.status.busy": "2024-07-15T02:00:13.518694Z",
     "iopub.status.idle": "2024-07-15T02:00:13.824362Z",
     "shell.execute_reply": "2024-07-15T02:00:13.823426Z",
     "shell.execute_reply.started": "2024-07-15T02:00:13.518906Z"
    },
    "tags": []
   },
   "outputs": [],
   "source": [
    "import pandas as pd\n",
    "import boto3\n",
    "import zipfile\n",
    "import glob\n",
    "import gzip\n",
    "import shutil\n",
    "\n",
    "import folium\n",
    "import os\n",
    "from tqdm import tqdm"
   ]
  },
  {
   "cell_type": "markdown",
   "id": "15119d6b-4ff2-4469-8bb5-9b71f5aeff6f",
   "metadata": {},
   "source": [
    "# 1. S3 연결"
   ]
  },
  {
   "cell_type": "code",
   "execution_count": 3,
   "id": "7ddf5140-4751-4f50-83ac-6f82632436b1",
   "metadata": {
    "execution": {
     "iopub.execute_input": "2024-07-09T01:02:05.211914Z",
     "iopub.status.busy": "2024-07-09T01:02:05.211716Z",
     "iopub.status.idle": "2024-07-09T01:02:05.335114Z",
     "shell.execute_reply": "2024-07-09T01:02:05.334217Z",
     "shell.execute_reply.started": "2024-07-09T01:02:05.211889Z"
    },
    "tags": []
   },
   "outputs": [],
   "source": [
    "# s3 client\n",
    "s3 = boto3.client('s3', \n",
    "                aws_access_key_id='id',\n",
    "                aws_secret_access_key='key')"
   ]
  },
  {
   "cell_type": "markdown",
   "id": "e435d991-d1ac-46f4-b450-e953acf767ba",
   "metadata": {},
   "source": [
    "# 2. S3에 있는 데이터 확인 및 삭제"
   ]
  },
  {
   "cell_type": "markdown",
   "id": "fa9025d2-eda2-4a9c-810c-8abc05431577",
   "metadata": {},
   "source": [
    "## 2.1. 데이터 확인"
   ]
  },
  {
   "cell_type": "code",
   "execution_count": 4,
   "id": "c8e93e1a-13f3-4251-8a24-41dfd3223dbc",
   "metadata": {
    "execution": {
     "iopub.execute_input": "2024-07-09T01:02:05.339781Z",
     "iopub.status.busy": "2024-07-09T01:02:05.339444Z",
     "iopub.status.idle": "2024-07-09T01:02:05.933256Z",
     "shell.execute_reply": "2024-07-09T01:02:05.932354Z",
     "shell.execute_reply.started": "2024-07-09T01:02:05.339756Z"
    },
    "tags": []
   },
   "outputs": [],
   "source": [
    "# 원하는 bucket과 하위경로에 있는 object list 출력\n",
    "bucket_name = 'airdna-prod-data-integration'\n",
    "\n",
    "obj_list = s3.list_objects(Bucket = bucket_name, Prefix = 'yanolja/outbound/June 2024')"
   ]
  },
  {
   "cell_type": "code",
   "execution_count": 6,
   "id": "12615924-2d7d-4445-ab30-6d084dc7ba28",
   "metadata": {
    "execution": {
     "iopub.execute_input": "2024-07-09T01:02:10.833084Z",
     "iopub.status.busy": "2024-07-09T01:02:10.832235Z",
     "iopub.status.idle": "2024-07-09T01:02:10.839739Z",
     "shell.execute_reply": "2024-07-09T01:02:10.838992Z",
     "shell.execute_reply.started": "2024-07-09T01:02:10.833053Z"
    },
    "tags": []
   },
   "outputs": [
    {
     "data": {
      "text/plain": [
       "['yanolja/outbound/June 2024/',\n",
       " 'yanolja/outbound/June 2024/Yanolja-PPD-South Korea-CSV_monthly_file_2024_07_07_02_29_51.csv',\n",
       " 'yanolja/outbound/June 2024/Yanolja-PPD-South Korea-CSV_property_file_2024_07_07_02_29_48.csv']"
      ]
     },
     "execution_count": 6,
     "metadata": {},
     "output_type": "execute_result"
    }
   ],
   "source": [
    "# object list의 Content 리턴\n",
    "contents_list = obj_list['Contents']\n",
    "file_list = []\n",
    "for content in contents_list:\n",
    "    key = content['Key']\n",
    "    file_list.append(key)\n",
    "file_list"
   ]
  },
  {
   "cell_type": "markdown",
   "id": "6ebaa542-79d4-4346-a8a8-6c87e944b374",
   "metadata": {},
   "source": [
    "## 2.1. 데이터 삭제"
   ]
  },
  {
   "cell_type": "code",
   "execution_count": null,
   "id": "ad130a6a-8ab7-497a-9e4b-90a3928ac44c",
   "metadata": {
    "tags": []
   },
   "outputs": [],
   "source": [
    "# delete_list = []\n",
    "# delete_list = file_list\n",
    "# for dl in delete_list:\n",
    "#     s3.delete_object(Bucket = bucket_name, Key = dl)\n"
   ]
  },
  {
   "cell_type": "markdown",
   "id": "8125848f-8b66-45c8-a3b9-58a0348d9418",
   "metadata": {
    "tags": []
   },
   "source": [
    "# 3. S3에서 데이터 불러오기 및 다운로드"
   ]
  },
  {
   "cell_type": "markdown",
   "id": "e6032847-bf57-423d-826a-36b4f2978ee3",
   "metadata": {
    "tags": []
   },
   "source": [
    "### 해당 폴더 내 파일 확인\n",
    "- airdna에서 파일을 주는 형태가 월별로 다름"
   ]
  },
  {
   "cell_type": "code",
   "execution_count": 6,
   "id": "e299c28e-6114-47e9-9a81-ff51ae1d9429",
   "metadata": {
    "execution": {
     "iopub.execute_input": "2024-07-09T00:47:32.986078Z",
     "iopub.status.busy": "2024-07-09T00:47:32.985213Z",
     "iopub.status.idle": "2024-07-09T00:47:32.990712Z",
     "shell.execute_reply": "2024-07-09T00:47:32.989868Z",
     "shell.execute_reply.started": "2024-07-09T00:47:32.986045Z"
    },
    "tags": []
   },
   "outputs": [],
   "source": [
    "month_list = ['January 2023', 'February 2023', 'March 2023', 'April 2023',\n",
    "             'May 2023', 'June 2023', 'July 2023', 'August 2023', 'September 2023',\n",
    "             'October 2023', 'November 2023', 'December 2023', 'January 2024', 'February 2024', 'March 2024', 'April 2024', 'May 2024', 'June 2024']"
   ]
  },
  {
   "cell_type": "code",
   "execution_count": 17,
   "id": "33d6590a-5595-466b-a1a5-93296a465125",
   "metadata": {
    "execution": {
     "iopub.execute_input": "2024-07-09T01:10:02.341983Z",
     "iopub.status.busy": "2024-07-09T01:10:02.340888Z",
     "iopub.status.idle": "2024-07-09T01:10:02.349322Z",
     "shell.execute_reply": "2024-07-09T01:10:02.348495Z",
     "shell.execute_reply.started": "2024-07-09T01:10:02.341948Z"
    },
    "tags": []
   },
   "outputs": [],
   "source": [
    "bucket_name = 'airdna-prod-data-integration'\n",
    "    \n",
    "def airdna_data_download(ml = None):\n",
    "    prefix = 'yanolja/outbound/' + ml\n",
    "    response = s3.list_objects_v2(Bucket = bucket_name, Prefix = prefix)\n",
    "    \n",
    "    if 'Contents' in response:\n",
    "        directory_path = '../data/' + ml\n",
    "        if not os.path.exists(directory_path):\n",
    "            os.makedirs(directory_path)\n",
    "            print(f\"Directory '{directory_path}' created.\")\n",
    "        else:\n",
    "            print(f\"Directory '{directory_path}' already exists.\")\n",
    "        \n",
    "        files = []\n",
    "        for obj in response['Contents']:\n",
    "            files.append(obj['Key'])\n",
    "        print(files)\n",
    "        for i in range(1, len(files)):\n",
    "            object_key = files[i]\n",
    "            local_file_path = directory_path + '/' + object_key.split('/')[3]\n",
    "            #s3.download_file(bucket_name, object_key, local_file_path)\n",
    "            print(object_key)\n",
    "    else:\n",
    "        print(\"No objects found in the specified bucket and prefix.\")\n",
    "        "
   ]
  },
  {
   "cell_type": "code",
   "execution_count": 20,
   "id": "2270848b-f181-48b0-b61c-00cd122d43fa",
   "metadata": {
    "execution": {
     "iopub.execute_input": "2024-07-09T01:11:11.843265Z",
     "iopub.status.busy": "2024-07-09T01:11:11.842174Z",
     "iopub.status.idle": "2024-07-09T01:11:42.022063Z",
     "shell.execute_reply": "2024-07-09T01:11:42.021116Z",
     "shell.execute_reply.started": "2024-07-09T01:11:11.843232Z"
    },
    "tags": []
   },
   "outputs": [],
   "source": [
    "s3.download_file(bucket_name, 'yanolja/outbound/June 2024/Yanolja-PPD-South Korea-CSV_monthly_file_2024_07_07_02_29_51.csv',\n",
    "                '../data/June 2024/Yanolja-PPD-South Korea-CSV_monthly_file_2024_07_07_02_29_51.csv')\n"
   ]
  },
  {
   "cell_type": "code",
   "execution_count": 16,
   "id": "d339b833-84ea-4751-9010-6fda4d6b583d",
   "metadata": {
    "execution": {
     "iopub.execute_input": "2024-07-09T01:09:31.873218Z",
     "iopub.status.busy": "2024-07-09T01:09:31.872086Z",
     "iopub.status.idle": "2024-07-09T01:09:44.872376Z",
     "shell.execute_reply": "2024-07-09T01:09:44.871417Z",
     "shell.execute_reply.started": "2024-07-09T01:09:31.873184Z"
    },
    "tags": []
   },
   "outputs": [],
   "source": [
    "s3.download_file(bucket_name, 'yanolja/outbound/June 2024/Yanolja-PPD-South Korea-CSV_property_file_2024_07_07_02_29_48.csv',\n",
    "                '../data/June 2024/Yanolja-PPD-South Korea-CSV_property_file_2024_07_07_02_29_48.csv')"
   ]
  },
  {
   "cell_type": "code",
   "execution_count": 18,
   "id": "84e17adf-e4ef-4a1d-b0e3-66dcbeccfacd",
   "metadata": {
    "execution": {
     "iopub.execute_input": "2024-07-09T01:10:03.615398Z",
     "iopub.status.busy": "2024-07-09T01:10:03.614468Z",
     "iopub.status.idle": "2024-07-09T01:10:04.214777Z",
     "shell.execute_reply": "2024-07-09T01:10:04.213864Z",
     "shell.execute_reply.started": "2024-07-09T01:10:03.615367Z"
    },
    "tags": []
   },
   "outputs": [
    {
     "name": "stdout",
     "output_type": "stream",
     "text": [
      "Directory '../data/June 2024' already exists.\n",
      "['yanolja/outbound/June 2024/', 'yanolja/outbound/June 2024/Yanolja-PPD-South Korea-CSV_monthly_file_2024_07_07_02_29_51.csv', 'yanolja/outbound/June 2024/Yanolja-PPD-South Korea-CSV_property_file_2024_07_07_02_29_48.csv']\n",
      "yanolja/outbound/June 2024/Yanolja-PPD-South Korea-CSV_monthly_file_2024_07_07_02_29_51.csv\n",
      "yanolja/outbound/June 2024/Yanolja-PPD-South Korea-CSV_property_file_2024_07_07_02_29_48.csv\n"
     ]
    }
   ],
   "source": [
    "airdna_data_download(ml = 'June 2024')"
   ]
  },
  {
   "cell_type": "markdown",
   "id": "e7544631-ed77-4296-9bee-414aa676e3d2",
   "metadata": {
    "execution": {
     "iopub.execute_input": "2024-01-25T09:00:58.732629Z",
     "iopub.status.busy": "2024-01-25T09:00:58.731837Z",
     "iopub.status.idle": "2024-01-25T09:00:58.736002Z",
     "shell.execute_reply": "2024-01-25T09:00:58.735247Z",
     "shell.execute_reply.started": "2024-01-25T09:00:58.732596Z"
    },
    "tags": []
   },
   "source": [
    "### 파일 다운로드\n",
    "- bucket & 폴더 내 파일을 모두 다운로드"
   ]
  },
  {
   "cell_type": "code",
   "execution_count": null,
   "id": "e8c87070-0056-4e49-8270-d2f26b50fe69",
   "metadata": {
    "tags": []
   },
   "outputs": [],
   "source": [
    "# def unzip_(zip_path = None, unzip_path = None):\n",
    "#     with zipfile.ZipFile(zip_path, 'r') as zip:\n",
    "#         zip.extractall(unzip_path)"
   ]
  },
  {
   "cell_type": "code",
   "execution_count": null,
   "id": "a2b82716-dce9-4b72-9dfb-c58fb46697ee",
   "metadata": {
    "tags": []
   },
   "outputs": [],
   "source": [
    "# def ungzip_(zip_path = None, unzip_path = None):\n",
    "#     with gzip.open(zip_path, 'rt') as f:\n",
    "#         df = pd.read_csv(f, sep = ',')\n",
    "#     return df"
   ]
  },
  {
   "cell_type": "code",
   "execution_count": null,
   "id": "befe1deb-4d2e-47c7-aea0-cb4ef695cb75",
   "metadata": {
    "tags": []
   },
   "outputs": [],
   "source": [
    "# df_property = ungzip_(zip_path = '../data/March 2024/Yanolja-PPD-South Korea-CSV_property_file_2024_02_08_17_59_53.csv.gz', \n",
    "#              unzip_path = 'file.csv')\n",
    "\n",
    "# df_performance = ungzip_(zip_path = '../data/March 2024/Yanolja-PPD-South Korea-CSV_monthly_file_2024_02_08_17_59_55.csv.gz', \n",
    "#              unzip_path = 'file.csv')\n"
   ]
  },
  {
   "cell_type": "markdown",
   "id": "5bdd9e2f-18f2-44f2-a3bb-199db68db97d",
   "metadata": {
    "tags": []
   },
   "source": [
    "# 3. 데이터 로딩"
   ]
  },
  {
   "cell_type": "code",
   "execution_count": 31,
   "id": "87b27683-4779-4f94-999a-a0ec3a2227ba",
   "metadata": {
    "execution": {
     "iopub.execute_input": "2024-07-09T01:15:44.241488Z",
     "iopub.status.busy": "2024-07-09T01:15:44.240362Z",
     "iopub.status.idle": "2024-07-09T01:15:44.245012Z",
     "shell.execute_reply": "2024-07-09T01:15:44.244151Z",
     "shell.execute_reply.started": "2024-07-09T01:15:44.241441Z"
    },
    "tags": []
   },
   "outputs": [],
   "source": [
    "# df_property = pd.read_csv('../data/March 2024/Yanolja-PPD-South Korea-CSV_property_file_2024_04_06_03_16_49.csv')"
   ]
  },
  {
   "cell_type": "code",
   "execution_count": 243,
   "id": "9890d129-7a3e-49aa-bd4e-e4f4c89166fa",
   "metadata": {
    "execution": {
     "iopub.execute_input": "2024-04-18T08:05:08.968021Z",
     "iopub.status.busy": "2024-04-18T08:05:08.967664Z",
     "iopub.status.idle": "2024-04-18T08:05:08.974093Z",
     "shell.execute_reply": "2024-04-18T08:05:08.973595Z",
     "shell.execute_reply.started": "2024-04-18T08:05:08.967995Z"
    },
    "tags": []
   },
   "outputs": [
    {
     "data": {
      "text/plain": [
       "Property ID                        abnb_601800677259491116\n",
       "Airbnb Property ID                    601800677259491072.0\n",
       "Airbnb HOST ID                                 357045305.0\n",
       "VRBO Property ID                                       NaN\n",
       "VRBO Host ID                                           NaN\n",
       "                                            ...           \n",
       "Revenue Potential LTM (Native)                 12069259.18\n",
       "Cleaning Fee (Native)                             43253.28\n",
       "Published Nightly Rate (Native)                  458214.43\n",
       "Published Monthly Rate (Native)                        NaN\n",
       "Published Weekly Rate (Native)                         NaN\n",
       "Name: 0, Length: 80, dtype: object"
      ]
     },
     "execution_count": 243,
     "metadata": {},
     "output_type": "execute_result"
    }
   ],
   "source": [
    "df_property.iloc[0]"
   ]
  },
  {
   "cell_type": "code",
   "execution_count": null,
   "id": "716f4791-449d-41a1-a600-f086cf390555",
   "metadata": {},
   "outputs": [],
   "source": [
    "df_property.iloc[]"
   ]
  },
  {
   "cell_type": "code",
   "execution_count": 4,
   "id": "9ef54604-55a1-4a7d-ad6e-a7785e4b588f",
   "metadata": {
    "execution": {
     "iopub.execute_input": "2024-07-15T02:00:22.991128Z",
     "iopub.status.busy": "2024-07-15T02:00:22.990293Z",
     "iopub.status.idle": "2024-07-15T02:00:54.786381Z",
     "shell.execute_reply": "2024-07-15T02:00:54.785412Z",
     "shell.execute_reply.started": "2024-07-15T02:00:22.991065Z"
    },
    "tags": []
   },
   "outputs": [
    {
     "name": "stderr",
     "output_type": "stream",
     "text": [
      "/tmp/ipykernel_124/1401477627.py:1: DtypeWarning: Columns (18,26,27,28) have mixed types. Specify dtype option on import or set low_memory=False.\n",
      "  df_performance = pd.read_csv('../data/June 2024/Yanolja-PPD-South Korea-CSV_monthly_file_2024_07_07_02_29_51.csv')\n"
     ]
    }
   ],
   "source": [
    "df_performance = pd.read_csv('../data/June 2024/Yanolja-PPD-South Korea-CSV_monthly_file_2024_07_07_02_29_51.csv')\n",
    "df_performance['month'] = pd.to_datetime(df_performance['Reporting Month'])\n",
    "\n",
    "df_performance['reporting_year'] = df_performance['Reporting Month'].str[:4]\n"
   ]
  },
  {
   "cell_type": "code",
   "execution_count": 5,
   "id": "661b8093-3023-456f-8dd4-7142e98ad3b9",
   "metadata": {
    "execution": {
     "iopub.execute_input": "2024-07-15T02:01:24.817857Z",
     "iopub.status.busy": "2024-07-15T02:01:24.816817Z",
     "iopub.status.idle": "2024-07-15T02:01:24.829251Z",
     "shell.execute_reply": "2024-07-15T02:01:24.828439Z",
     "shell.execute_reply.started": "2024-07-15T02:01:24.817823Z"
    },
    "tags": []
   },
   "outputs": [
    {
     "data": {
      "text/plain": [
       "(8482691, 34)"
      ]
     },
     "execution_count": 5,
     "metadata": {},
     "output_type": "execute_result"
    }
   ],
   "source": [
    "df_performance.shape"
   ]
  },
  {
   "cell_type": "code",
   "execution_count": 6,
   "id": "aeb9d280-9337-4487-ae98-d641773b7c33",
   "metadata": {
    "execution": {
     "iopub.execute_input": "2024-07-15T02:01:32.931008Z",
     "iopub.status.busy": "2024-07-15T02:01:32.930194Z",
     "iopub.status.idle": "2024-07-15T02:01:32.937160Z",
     "shell.execute_reply": "2024-07-15T02:01:32.936383Z",
     "shell.execute_reply.started": "2024-07-15T02:01:32.930974Z"
    },
    "tags": []
   },
   "outputs": [
    {
     "data": {
      "text/plain": [
       "Index(['Property ID', 'Property Type', 'Listing Type', 'Bedrooms',\n",
       "       'Reporting Month', 'Occupancy Rate', 'Currency', 'Revenue (USD)',\n",
       "       'Revenue Potential (USD)', 'ADR (USD)', 'Number of Reservations',\n",
       "       'Reservation Days', 'Available Days', 'Blocked Days', 'Country',\n",
       "       'State', 'City', 'Zipcode', 'Neighborhood',\n",
       "       'Metropolitan Statistical Area', 'Latitude', 'Longitude', 'Active',\n",
       "       'Scraped During Month', 'Airbnb Property ID', 'Airbnb Host ID',\n",
       "       'Vrbo Property ID', 'Vrbo Host ID', 'Property Manager',\n",
       "       'Revenue (Native)', 'ADR (Native)', 'Revenue Potential (Native)',\n",
       "       'month', 'reporting_year'],\n",
       "      dtype='object')"
      ]
     },
     "execution_count": 6,
     "metadata": {},
     "output_type": "execute_result"
    }
   ],
   "source": [
    "df_performance.columns"
   ]
  },
  {
   "cell_type": "code",
   "execution_count": 7,
   "id": "1b0764a7-1c0d-4d0b-b98b-a1eb2b60a8f6",
   "metadata": {
    "execution": {
     "iopub.execute_input": "2024-07-15T02:02:42.236061Z",
     "iopub.status.busy": "2024-07-15T02:02:42.235024Z",
     "iopub.status.idle": "2024-07-15T02:02:42.643665Z",
     "shell.execute_reply": "2024-07-15T02:02:42.642829Z",
     "shell.execute_reply.started": "2024-07-15T02:02:42.236022Z"
    },
    "tags": []
   },
   "outputs": [
    {
     "data": {
      "text/plain": [
       "array(['Seoul', 'Jeju Island', nan, 'Jeollanam-do', 'Gyeongju-si',\n",
       "       'Busan', 'Incheon', 'Seongnam', 'Gangwon-do', 'Jeollabuk-do',\n",
       "       'Goyang', 'Daegu', 'Daejeon', 'Chungcheongbuk-do', 'Gwangju',\n",
       "       'Suwon', 'Yongin', 'Ulsan', 'Gyeonggi-do', 'Bucheon', 'Anyang',\n",
       "       'Chungcheongnam-do', 'Paengseong-eup', 'Uijeongbu', 'Chiang Mai'],\n",
       "      dtype=object)"
      ]
     },
     "execution_count": 7,
     "metadata": {},
     "output_type": "execute_result"
    }
   ],
   "source": [
    "df_performance['City'].unique()"
   ]
  },
  {
   "cell_type": "code",
   "execution_count": 21,
   "id": "6520c77a-d9bc-4aa8-ad20-85429e201ce7",
   "metadata": {
    "execution": {
     "iopub.execute_input": "2024-07-15T02:05:47.828646Z",
     "iopub.status.busy": "2024-07-15T02:05:47.827604Z",
     "iopub.status.idle": "2024-07-15T02:05:47.838752Z",
     "shell.execute_reply": "2024-07-15T02:05:47.837950Z",
     "shell.execute_reply.started": "2024-07-15T02:05:47.828611Z"
    },
    "tags": []
   },
   "outputs": [],
   "source": [
    "def abnb_listing(data = None, year =None):\n",
    "    \n",
    "    subset = data[(data['Active'] == True) & (data['Available Days'] > 0) & (data['reporting_year'] == year)]\n",
    "    subset = subset[['Property ID', 'Occupancy Rate', 'Revenue (USD)', 'ADR (USD)', 'Number of Reservations', 'Reservation Days',\n",
    "                'Available Days', 'Blocked Days', 'State', 'City', 'Active', 'Revenue (Native)', 'ADR (Native)', 'reporting_year', 'Reporting Month']]\n",
    "    subset['adr(krw)'] = subset['Revenue (Native)'] / subset['Reservation Days'] \n",
    "    subset['adr(krw)'] = subset['adr(krw)'].fillna(0)\n",
    "    \n",
    "    lower_bound = subset['adr(krw)'].quantile(0.02)\n",
    "    upper_bound = subset['adr(krw)'].quantile(0.98)\n",
    "\n",
    "    # Filter the DataFrame\n",
    "    subset = subset[(subset['adr(krw)'] > lower_bound) & (subset['adr(krw)'] < upper_bound)]\n",
    "\n",
    "    \n",
    "    return subset\n",
    "    \n",
    "def abnb_listing(data = None, month =None):\n",
    "    \n",
    "    subset = data[(data['Active'] == True) & (data['Available Days'] > 0) & (data['Reporting Month'] == month)]\n",
    "    subset = subset[['Property ID', 'Occupancy Rate', 'Revenue (USD)', 'ADR (USD)', 'Number of Reservations', 'Reservation Days',\n",
    "                'Available Days', 'Blocked Days', 'State', 'City', 'Active', 'Revenue (Native)', 'ADR (Native)', 'reporting_year', 'Reporting Month',\n",
    "                    'month']]\n",
    "    subset['adr(krw)'] = subset['Revenue (Native)'] / subset['Reservation Days'] \n",
    "    subset['adr(krw)'] = subset['adr(krw)'].fillna(0)\n",
    "    \n",
    "    lower_bound = subset['adr(krw)'].quantile(0.02)\n",
    "    upper_bound = subset['adr(krw)'].quantile(0.98)\n",
    "\n",
    "    # Filter the DataFrame\n",
    "    subset = subset[(subset['adr(krw)'] > lower_bound) & (subset['adr(krw)'] < upper_bound)]\n",
    "\n",
    "    \n",
    "    return subset\n",
    "    \n"
   ]
  },
  {
   "cell_type": "code",
   "execution_count": 22,
   "id": "5cd57b29-af3a-4c46-9ca1-efd378da0594",
   "metadata": {
    "execution": {
     "iopub.execute_input": "2024-07-15T02:05:48.725374Z",
     "iopub.status.busy": "2024-07-15T02:05:48.724556Z",
     "iopub.status.idle": "2024-07-15T02:05:48.732150Z",
     "shell.execute_reply": "2024-07-15T02:05:48.731370Z",
     "shell.execute_reply.started": "2024-07-15T02:05:48.725341Z"
    },
    "tags": []
   },
   "outputs": [
    {
     "data": {
      "text/plain": [
       "0    2024-01-01\n",
       "1    2024-02-01\n",
       "2    2024-03-01\n",
       "Name: Reporting Month, dtype: object"
      ]
     },
     "execution_count": 22,
     "metadata": {},
     "output_type": "execute_result"
    }
   ],
   "source": [
    "df_performance['Reporting Month'].iloc[:3]"
   ]
  },
  {
   "cell_type": "code",
   "execution_count": 23,
   "id": "2d0158b8-59da-4bf9-809a-dcdadb562a79",
   "metadata": {
    "execution": {
     "iopub.execute_input": "2024-07-15T02:05:49.845763Z",
     "iopub.status.busy": "2024-07-15T02:05:49.844894Z",
     "iopub.status.idle": "2024-07-15T02:05:50.618827Z",
     "shell.execute_reply": "2024-07-15T02:05:50.617896Z",
     "shell.execute_reply.started": "2024-07-15T02:05:49.845729Z"
    },
    "tags": []
   },
   "outputs": [],
   "source": [
    "result = abnb_listing(data = df_performance, month = '2024-01-01')"
   ]
  },
  {
   "cell_type": "code",
   "execution_count": 28,
   "id": "a2de0f52-4828-41ad-a554-bec52032da9a",
   "metadata": {
    "execution": {
     "iopub.execute_input": "2024-07-15T02:07:56.927047Z",
     "iopub.status.busy": "2024-07-15T02:07:56.926306Z",
     "iopub.status.idle": "2024-07-15T02:07:56.957869Z",
     "shell.execute_reply": "2024-07-15T02:07:56.957021Z",
     "shell.execute_reply.started": "2024-07-15T02:07:56.927014Z"
    },
    "tags": []
   },
   "outputs": [
    {
     "data": {
      "text/plain": [
       "66822"
      ]
     },
     "execution_count": 28,
     "metadata": {},
     "output_type": "execute_result"
    }
   ],
   "source": [
    "result['Property ID'].nunique()"
   ]
  },
  {
   "cell_type": "code",
   "execution_count": 30,
   "id": "96afa163-e825-46bc-81a2-743831c9ceb5",
   "metadata": {
    "execution": {
     "iopub.execute_input": "2024-07-15T02:08:15.199784Z",
     "iopub.status.busy": "2024-07-15T02:08:15.198932Z",
     "iopub.status.idle": "2024-07-15T02:08:15.205083Z",
     "shell.execute_reply": "2024-07-15T02:08:15.204338Z",
     "shell.execute_reply.started": "2024-07-15T02:08:15.199751Z"
    },
    "tags": []
   },
   "outputs": [
    {
     "data": {
      "text/plain": [
       "'2024-01-01'"
      ]
     },
     "execution_count": 30,
     "metadata": {},
     "output_type": "execute_result"
    }
   ],
   "source": [
    "i"
   ]
  },
  {
   "cell_type": "code",
   "execution_count": 32,
   "id": "724d0f5e-5666-449d-9d38-53463fe019a7",
   "metadata": {
    "execution": {
     "iopub.execute_input": "2024-07-15T02:08:43.659756Z",
     "iopub.status.busy": "2024-07-15T02:08:43.659442Z",
     "iopub.status.idle": "2024-07-15T02:08:44.432436Z",
     "shell.execute_reply": "2024-07-15T02:08:44.431455Z",
     "shell.execute_reply.started": "2024-07-15T02:08:43.659727Z"
    },
    "tags": []
   },
   "outputs": [],
   "source": [
    "temp = abnb_listing(data = df_performance, month = i)"
   ]
  },
  {
   "cell_type": "code",
   "execution_count": 40,
   "id": "d89c0a46-52a2-45f3-85b1-5370f880da2b",
   "metadata": {
    "execution": {
     "iopub.execute_input": "2024-07-15T02:09:55.544220Z",
     "iopub.status.busy": "2024-07-15T02:09:55.543403Z",
     "iopub.status.idle": "2024-07-15T02:09:55.550477Z",
     "shell.execute_reply": "2024-07-15T02:09:55.549694Z",
     "shell.execute_reply.started": "2024-07-15T02:09:55.544186Z"
    },
    "tags": []
   },
   "outputs": [
    {
     "data": {
      "text/plain": [
       "90491186299.29001"
      ]
     },
     "execution_count": 40,
     "metadata": {},
     "output_type": "execute_result"
    }
   ],
   "source": [
    "temp['Revenue (Native)'].sum()"
   ]
  },
  {
   "cell_type": "code",
   "execution_count": 41,
   "id": "f29b5466-a209-4de8-b54a-37e51292b0cd",
   "metadata": {
    "execution": {
     "iopub.execute_input": "2024-07-15T02:10:16.415855Z",
     "iopub.status.busy": "2024-07-15T02:10:16.414962Z",
     "iopub.status.idle": "2024-07-15T02:13:14.187461Z",
     "shell.execute_reply": "2024-07-15T02:13:14.186517Z",
     "shell.execute_reply.started": "2024-07-15T02:10:16.415821Z"
    },
    "tags": []
   },
   "outputs": [
    {
     "name": "stderr",
     "output_type": "stream",
     "text": [
      "100%|██████████| 121/121 [02:57<00:00,  1.46s/it]\n"
     ]
    }
   ],
   "source": [
    "abnb_listing_korea = []\n",
    "for i in tqdm(df_performance['Reporting Month'].unique()):\n",
    "    abnb_listing_korea.append([i, abnb_listing(data = df_performance, month = i)['Property ID'].nunique(),  abnb_listing(data = df_performance, month = i)['Revenue (Native)'].sum()])"
   ]
  },
  {
   "cell_type": "code",
   "execution_count": 43,
   "id": "59414284-6630-4bd6-908e-14a0c1d44b60",
   "metadata": {
    "execution": {
     "iopub.execute_input": "2024-07-15T02:13:22.793505Z",
     "iopub.status.busy": "2024-07-15T02:13:22.792678Z",
     "iopub.status.idle": "2024-07-15T02:13:22.802717Z",
     "shell.execute_reply": "2024-07-15T02:13:22.801872Z",
     "shell.execute_reply.started": "2024-07-15T02:13:22.793471Z"
    },
    "tags": []
   },
   "outputs": [],
   "source": [
    "pd.DataFrame(abnb_listing_korea).to_csv('ddd.csv')"
   ]
  },
  {
   "cell_type": "code",
   "execution_count": 25,
   "id": "74d0f396-4997-4752-a9d7-0cd5588e8db4",
   "metadata": {
    "execution": {
     "iopub.execute_input": "2024-07-15T02:06:34.701325Z",
     "iopub.status.busy": "2024-07-15T02:06:34.700487Z",
     "iopub.status.idle": "2024-07-15T02:06:34.733222Z",
     "shell.execute_reply": "2024-07-15T02:06:34.732286Z",
     "shell.execute_reply.started": "2024-07-15T02:06:34.701291Z"
    },
    "tags": []
   },
   "outputs": [
    {
     "data": {
      "text/plain": [
       "66822"
      ]
     },
     "execution_count": 25,
     "metadata": {},
     "output_type": "execute_result"
    }
   ],
   "source": [
    "result['Property ID'].nunique()"
   ]
  },
  {
   "cell_type": "code",
   "execution_count": 32,
   "id": "2b03c7ff-a3bf-41d8-a31e-44f8ab266b4d",
   "metadata": {
    "execution": {
     "iopub.execute_input": "2024-07-09T01:19:18.580254Z",
     "iopub.status.busy": "2024-07-09T01:19:18.579181Z",
     "iopub.status.idle": "2024-07-09T01:19:18.597622Z",
     "shell.execute_reply": "2024-07-09T01:19:18.596659Z",
     "shell.execute_reply.started": "2024-07-09T01:19:18.580219Z"
    },
    "tags": []
   },
   "outputs": [],
   "source": [
    "def abnb_performance(data = None, month = None):\n",
    "    occ_result = []\n",
    "    adr_result = []\n",
    "    revpar_result = []\n",
    "    subset = data[(data['Active'] == True) & (data['Available Days'] > 0) & (data['Reporting Month'] == month)]\n",
    "    subset = subset[['Property ID', 'Occupancy Rate', 'Revenue (USD)', 'ADR (USD)', 'Number of Reservations', 'Reservation Days',\n",
    "                'Available Days', 'Blocked Days', 'State', 'City', 'Active', 'Revenue (Native)', 'ADR (Native)']]\n",
    "\n",
    "    subset = subset[subset['City'].notna()]\n",
    "\n",
    "\n",
    "#     subset['occ'] = subset['Reservation Days'] / (31 - subset['Blocked Days'])\n",
    "    subset['occ'] = subset['Occupancy Rate']\n",
    "    subset['adr(usd)'] = subset['Revenue (USD)'] / subset['Reservation Days']\n",
    "    subset['adr(krw)'] = subset['Revenue (Native)'] / subset['Reservation Days']\n",
    "    subset['adr(krw)'] = subset['adr(krw)'].fillna(0)\n",
    "    \n",
    "    lower_bound = subset['adr(krw)'].quantile(0.02)\n",
    "    upper_bound = subset['adr(krw)'].quantile(0.98)\n",
    "\n",
    "    # Filter the DataFrame\n",
    "    subset = subset[(subset['adr(krw)'] > lower_bound) & (subset['adr(krw)'] < upper_bound)]\n",
    "\n",
    "    \n",
    "    subset['revpar'] = subset['occ'] * subset['adr(krw)']\n",
    "    \n",
    "    subset['City'].unique()\n",
    "    region_dict = {'Gangwon-do': '강원', 'Jeju Island': '제주', 'Seoul': '서울', 'Daegu': '경북권',\n",
    "                  'Busan': '부산', 'Gyeongju-si': '경남권', 'Suwon': '경기권', 'Anyang': '경기권',\n",
    "                  'Chungcheongbuk-do': '충청권', 'Incheon': '경기권', 'Daejeon': '충청권', 'Gwangju': '전라권',\n",
    "                  'Gyeonggi-do': '경기권', 'Seongnam': '경기권', 'Paengseong-eup': '경기권', 'Bucheon': '경기권',\n",
    "                  'Jeollanam-do': '전라권', 'Jeollabuk-do': '전라권', 'Yongin': '경기권', 'Chungcheongnam-do': '충청권',\n",
    "                  'Ulsan': '경남권', 'Goyang': '경기권', 'Uijeongbu': '경기권'}\n",
    "\n",
    "    subset['Region'] = subset['City'].replace(region_dict)\n",
    "    subset = subset.reset_index()\n",
    "    for rg in subset['Region'].unique():\n",
    "        occ_result.append([rg, subset[subset['Region'] == rg]['occ'].mean()])\n",
    "        adr_result.append([rg, subset[subset['Region'] == rg]['adr(krw)'].mean()])\n",
    "        revpar_result.append([rg, subset[subset['Region'] == rg]['revpar'].mean()])\n",
    "    occ_result.append(['전국', subset['occ'].mean()])\n",
    "    adr_result.append(['전국', subset['adr(krw)'].mean()])\n",
    "    revpar_result.append(['전국', subset['revpar'].mean()])\n",
    "    occ_df = pd.DataFrame(occ_result).transpose()\n",
    "    adr_df = pd.DataFrame(adr_result).transpose()\n",
    "    revpar_df = pd.DataFrame(revpar_result).transpose()\n",
    "    \n",
    "    occ_df.columns = occ_df.iloc[0]\n",
    "    adr_df.columns = adr_df.iloc[0]\n",
    "    revpar_df.columns = revpar_df.iloc[0]\n",
    "    \n",
    "    occ_df = occ_df[1:]\n",
    "    adr_df = adr_df[1:]\n",
    "    revpar_df = revpar_df[1:]\n",
    "    \n",
    "    col_order = ['전국', '강원', '경기권', '경남권', '경북권', '부산', '서울', '전라권', '제주', '충청권']\n",
    "    occ_df = occ_df.reindex(columns = col_order)\n",
    "    adr_df = adr_df.reindex(columns = col_order)\n",
    "    revpar_df = revpar_df.reindex(columns = col_order)\n",
    "    return occ_df, adr_df, revpar_df"
   ]
  },
  {
   "cell_type": "code",
   "execution_count": 34,
   "id": "10be5514-a7f7-44e3-92bb-9f59ef812dc0",
   "metadata": {
    "execution": {
     "iopub.execute_input": "2024-07-09T01:21:22.185738Z",
     "iopub.status.busy": "2024-07-09T01:21:22.184859Z",
     "iopub.status.idle": "2024-07-09T01:21:40.191992Z",
     "shell.execute_reply": "2024-07-09T01:21:40.190898Z",
     "shell.execute_reply.started": "2024-07-09T01:21:22.185705Z"
    },
    "tags": []
   },
   "outputs": [
    {
     "name": "stderr",
     "output_type": "stream",
     "text": [
      "100%|██████████| 18/18 [00:17<00:00,  1.00it/s]\n"
     ]
    }
   ],
   "source": [
    "occ_final = []\n",
    "\n",
    "periods = ['2023-01-01', '2023-02-01', '2023-03-01', '2023-04-01','2023-05-01','2023-06-01',\n",
    "          '2023-07-01','2023-08-01','2023-09-01','2023-10-01','2023-11-01','2023-12-01',\n",
    "          '2024-01-01','2024-02-01','2024-03-01', '2024-04-01', '2024-05-01', '2024-06-01']\n",
    "for i in tqdm(periods):\n",
    "    occ_final.append(abnb_performance(data = df_performance, month = i)[0])\n",
    "\n",
    "occ_final = pd.concat(occ_final, ignore_index = True)\n",
    "occ_final['periods'] = periods\n",
    "occ_final.to_csv('abnb_occ.csv', encoding = 'cp949')"
   ]
  },
  {
   "cell_type": "code",
   "execution_count": 35,
   "id": "fa81ee67-858d-495e-b487-6ed97e6e5af8",
   "metadata": {
    "execution": {
     "iopub.execute_input": "2024-07-09T01:21:44.384024Z",
     "iopub.status.busy": "2024-07-09T01:21:44.383035Z",
     "iopub.status.idle": "2024-07-09T01:22:02.364460Z",
     "shell.execute_reply": "2024-07-09T01:22:02.363488Z",
     "shell.execute_reply.started": "2024-07-09T01:21:44.383992Z"
    },
    "tags": []
   },
   "outputs": [
    {
     "name": "stderr",
     "output_type": "stream",
     "text": [
      "100%|██████████| 18/18 [00:17<00:00,  1.00it/s]\n"
     ]
    }
   ],
   "source": [
    "adr_final = []\n",
    "\n",
    "periods = ['2023-01-01', '2023-02-01', '2023-03-01', '2023-04-01','2023-05-01','2023-06-01',\n",
    "          '2023-07-01','2023-08-01','2023-09-01','2023-10-01','2023-11-01','2023-12-01',\n",
    "          '2024-01-01','2024-02-01','2024-03-01', '2024-04-01', '2024-05-01', '2024-06-01']\n",
    "for i in tqdm(periods):\n",
    "    adr_final.append(abnb_performance(data = df_performance, month = i)[1])\n",
    "\n",
    "adr_final = pd.concat(adr_final, ignore_index = True)\n",
    "adr_final['periods'] = periods\n",
    "adr_final.to_csv('abnb_adr.csv', encoding = 'cp949')"
   ]
  },
  {
   "cell_type": "code",
   "execution_count": 36,
   "id": "69665939-1444-423d-81ef-ac873039437b",
   "metadata": {
    "execution": {
     "iopub.execute_input": "2024-07-09T01:22:02.366876Z",
     "iopub.status.busy": "2024-07-09T01:22:02.366607Z",
     "iopub.status.idle": "2024-07-09T01:22:20.277565Z",
     "shell.execute_reply": "2024-07-09T01:22:20.276539Z",
     "shell.execute_reply.started": "2024-07-09T01:22:02.366849Z"
    },
    "tags": []
   },
   "outputs": [
    {
     "name": "stderr",
     "output_type": "stream",
     "text": [
      "100%|██████████| 18/18 [00:17<00:00,  1.01it/s]\n"
     ]
    }
   ],
   "source": [
    "revpar_final = []\n",
    "\n",
    "periods = ['2023-01-01', '2023-02-01', '2023-03-01', '2023-04-01','2023-05-01','2023-06-01',\n",
    "          '2023-07-01','2023-08-01','2023-09-01','2023-10-01','2023-11-01','2023-12-01',\n",
    "          '2024-01-01','2024-02-01','2024-03-01', '2024-04-01', '2024-05-01', '2024-06-01']\n",
    "for i in tqdm(periods):\n",
    "    revpar_final.append(abnb_performance(data = df_performance, month = i)[2])\n",
    "\n",
    "revpar_final = pd.concat(revpar_final, ignore_index = True)\n",
    "revpar_final['periods'] = periods\n",
    "revpar_final.to_csv('abnb_revpar.csv', encoding = 'cp949')"
   ]
  }
 ],
 "metadata": {
  "kernelspec": {
   "display_name": "Python 3 (ipykernel)",
   "language": "python",
   "name": "python3"
  },
  "language_info": {
   "codemirror_mode": {
    "name": "ipython",
    "version": 3
   },
   "file_extension": ".py",
   "mimetype": "text/x-python",
   "name": "python",
   "nbconvert_exporter": "python",
   "pygments_lexer": "ipython3",
   "version": "3.8.10"
  },
  "widgets": {
   "application/vnd.jupyter.widget-state+json": {
    "state": {},
    "version_major": 2,
    "version_minor": 0
   }
  }
 },
 "nbformat": 4,
 "nbformat_minor": 5
}
