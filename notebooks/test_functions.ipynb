{
 "cells": [
  {
   "cell_type": "code",
   "execution_count": 9,
   "metadata": {},
   "outputs": [],
   "source": [
    "import boto3\n",
    "import json\n",
    "import pandas as pd"
   ]
  },
  {
   "cell_type": "code",
   "execution_count": 14,
   "metadata": {},
   "outputs": [
    {
     "name": "stdout",
     "output_type": "stream",
     "text": [
      "AWS Access Key ID:  AKI**************NHT\n",
      "AWS Secret Access Key:  RBI**********************************r45\n"
     ]
    }
   ],
   "source": [
    "# setup stuff\n",
    "\n",
    "def load_config():\n",
    "    with open('../config.json', 'r') as file:\n",
    "        config = json.load(file)\n",
    "    return config\n",
    "\n",
    "config = load_config()\n",
    "\n",
    "def display_config(aws_access_key_id, aws_secret_access_key):\n",
    "    \"\"\"Displays masked AWS credentials.\"\"\"\n",
    "    def mask_string(s):\n",
    "        \"\"\"Helper function to mask the middle part of a string.\"\"\"\n",
    "        if len(s) > 6:\n",
    "            return s[:3] + '*' * (len(s) - 6) + s[-3:]\n",
    "        else:\n",
    "            return '*' * len(s)\n",
    "\n",
    "    print(\"AWS Access Key ID: \", mask_string(aws_access_key_id))\n",
    "    print(\"AWS Secret Access Key: \", mask_string(aws_secret_access_key))\n",
    "\n",
    "\n",
    "display_config(config['AWS_ACCESS_KEY_ID'], config['AWS_SECRET_ACCESS_KEY'])"
   ]
  },
  {
   "cell_type": "code",
   "execution_count": 18,
   "metadata": {},
   "outputs": [
    {
     "data": {
      "text/plain": [
       "dict_keys(['AWS_ACCESS_KEY_ID', 'AWS_SECRET_ACCESS_KEY', 'BUCKET_NAME', 'BASE_PREFIX', 'DATA_DIRECTORY', 'P_YM'])"
      ]
     },
     "execution_count": 18,
     "metadata": {},
     "output_type": "execute_result"
    }
   ],
   "source": [
    "config.keys()"
   ]
  },
  {
   "cell_type": "code",
   "execution_count": null,
   "metadata": {},
   "outputs": [],
   "source": [
    "# /src/aws_utils.py\n",
    "\n"
   ]
  }
 ],
 "metadata": {
  "kernelspec": {
   "display_name": "airdna",
   "language": "python",
   "name": "python3"
  },
  "language_info": {
   "codemirror_mode": {
    "name": "ipython",
    "version": 3
   },
   "file_extension": ".py",
   "mimetype": "text/x-python",
   "name": "python",
   "nbconvert_exporter": "python",
   "pygments_lexer": "ipython3",
   "version": "3.11.9"
  }
 },
 "nbformat": 4,
 "nbformat_minor": 2
}
