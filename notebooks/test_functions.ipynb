{
 "cells": [
  {
   "cell_type": "code",
   "execution_count": 8,
   "metadata": {},
   "outputs": [
    {
     "name": "stdout",
     "output_type": "stream",
     "text": [
      "c:\\Users\\deachul.seo\\Desktop\\repo\\yar_airdna\n"
     ]
    }
   ],
   "source": [
    "import boto3\n",
    "from datetime import datetime\n",
    "import json\n",
    "import os\n",
    "import pandas as pd\n",
    "import sys\n",
    "\n",
    "\n",
    "base_dir = os.path.abspath('../')   # 메인 디렉토리 설정\n",
    "sys.path.append(base_dir)\n",
    "from src import aws_utils as aws\n",
    "print(base_dir)"
   ]
  },
  {
   "cell_type": "code",
   "execution_count": 9,
   "metadata": {},
   "outputs": [
    {
     "name": "stdout",
     "output_type": "stream",
     "text": [
      "----------------------------CONFIG----------------------------\n",
      "AWS_ACCESS_KEY_ID: AKI**************NHT\n",
      "AWS_SECRET_ACCESS_KEY: RBI**********************************r45\n",
      "BUCKET_NAME: airdna-prod-data-integration\n",
      "BUCKET_DIR: yanolja/outbound/June 2024\n",
      "DATA_DIRECTORY: ../data/\n",
      "P_YM: 2024-06-01\n",
      "---------------------------------------------------------------\n",
      "START TIME: 16:24:29.311518\n"
     ]
    }
   ],
   "source": [
    "# SETUP\n",
    "\n",
    "config = aws.load_config()\n",
    "aws_access_key_id = config['AWS_ACCESS_KEY_ID']\n",
    "aws_secret_access_key = config['AWS_SECRET_ACCESS_KEY']\n",
    "bucket_name = config['BUCKET_NAME']\n",
    "base_prefix = config['BASE_PREFIX']\n",
    "data_dir = config['DATA_DIRECTORY']\n",
    "p_ym = config['P_YM']\n",
    "\n",
    "output_date = aws.convert_date_format(p_ym)\n",
    "bucket_dir = base_prefix + output_date\n",
    "\n",
    "masked_id, masked_key = aws.display_config(aws_access_key_id, aws_secret_access_key)   # 민감정보 가리기\n",
    "\n",
    "print('----------------------------CONFIG----------------------------')\n",
    "print(f\"AWS_ACCESS_KEY_ID: {masked_id}\")\n",
    "print(f\"AWS_SECRET_ACCESS_KEY: {masked_key}\")\n",
    "print(f\"BUCKET_NAME: {bucket_name}\")\n",
    "print(f\"BUCKET_DIR: {bucket_dir}\")\n",
    "print(f\"DATA_DIRECTORY: {data_dir}\")\n",
    "print(f\"P_YM: {p_ym}\")\n",
    "print('---------------------------------------------------------------')\n",
    "\n",
    "start_time = datetime.now()\n",
    "print(\"START TIME:\", start_time.time())\n"
   ]
  },
  {
   "cell_type": "code",
   "execution_count": 10,
   "metadata": {},
   "outputs": [
    {
     "name": "stdout",
     "output_type": "stream",
     "text": [
      "Accessing AWS Storage...\n",
      "Accessed S3 storage:  <botocore.client.S3 object at 0x00000210E14839D0>\n"
     ]
    }
   ],
   "source": [
    "# AWS S3 스토리지 접속\n",
    "print(\"Accessing AWS Storage...\")\n",
    "aws_access_key_id = config['AWS_ACCESS_KEY_ID']\n",
    "aws_secret_access_key = config['AWS_SECRET_ACCESS_KEY']\n",
    "\n",
    "s3 = aws.init_s3_client(aws_access_key_id, aws_secret_access_key)\n",
    "print('Accessed S3 storage: ', s3)\n"
   ]
  },
  {
   "cell_type": "code",
   "execution_count": 54,
   "metadata": {},
   "outputs": [
    {
     "name": "stdout",
     "output_type": "stream",
     "text": [
      "Directory '../data/June 2024' already exists.\n",
      "['yanolja/outbound/June 2024/', 'yanolja/outbound/June 2024/Yanolja-PPD-South Korea-CSV_monthly_file_2024_07_07_02_29_51.csv', 'yanolja/outbound/June 2024/Yanolja-PPD-South Korea-CSV_property_file_2024_07_07_02_29_48.csv']\n",
      "DOWNLOADING FILE: yanolja/outbound/June 2024/Yanolja-PPD-South Korea-CSV_monthly_file_2024_07_07_02_29_51.csv...\n"
     ]
    }
   ],
   "source": [
    "print('Start data download...')\n",
    "\n",
    "aws.airdna_data_download(s3=s3, base_prefix=base_prefix, bucket_name=bucket_name, ml=output_date)\n",
    "\n",
    "end_time = datetime.now()\n",
    "print(\"END TIME:\", start_time.time())"
   ]
  },
  {
   "cell_type": "code",
   "execution_count": null,
   "metadata": {},
   "outputs": [],
   "source": []
  },
  {
   "cell_type": "code",
   "execution_count": null,
   "metadata": {},
   "outputs": [],
   "source": []
  },
  {
   "cell_type": "code",
   "execution_count": null,
   "metadata": {},
   "outputs": [],
   "source": []
  },
  {
   "cell_type": "code",
   "execution_count": null,
   "metadata": {},
   "outputs": [],
   "source": []
  }
 ],
 "metadata": {
  "kernelspec": {
   "display_name": "airdna",
   "language": "python",
   "name": "python3"
  },
  "language_info": {
   "codemirror_mode": {
    "name": "ipython",
    "version": 3
   },
   "file_extension": ".py",
   "mimetype": "text/x-python",
   "name": "python",
   "nbconvert_exporter": "python",
   "pygments_lexer": "ipython3",
   "version": "3.11.9"
  }
 },
 "nbformat": 4,
 "nbformat_minor": 2
}
